{
 "cells": [
  {
   "cell_type": "markdown",
   "id": "64273600",
   "metadata": {
    "_cell_guid": "b1076dfc-b9ad-4769-8c92-a6c4dae69d19",
    "_uuid": "8f2839f25d086af736a60e9eeb907d3b93b6e0e5",
    "papermill": {
     "duration": 0.005789,
     "end_time": "2024-02-24T16:25:30.645534",
     "exception": false,
     "start_time": "2024-02-24T16:25:30.639745",
     "status": "completed"
    },
    "tags": []
   },
   "source": [
    "<a id=\"menu\"></a>\n",
    "## Table of Contents\n",
    "[1. Import Libraries](#1)  \n",
    "[2. Import Data](#2)  \n",
    "[3. Quick overview](#3)  \n",
    "[4. Summary of the data](#4)  \n",
    "[5. Exploratory Data Analysis ](#5)  \n",
    "[6. Pre-Processing](#6)  \n",
    "[7. Model building](#7)  \n",
    "[8. Prediction on Test data](#8)  "
   ]
  },
  {
   "cell_type": "markdown",
   "id": "73fa61f0",
   "metadata": {
    "papermill": {
     "duration": 0.004515,
     "end_time": "2024-02-24T16:25:30.655748",
     "exception": false,
     "start_time": "2024-02-24T16:25:30.651233",
     "status": "completed"
    },
    "tags": []
   },
   "source": [
    "<a id=\"1\"></a>\n",
    "<b>1. <span style='color:#4267B2'>Import Libraries</span></b> "
   ]
  },
  {
   "cell_type": "code",
   "execution_count": 2,
   "id": "8ed51f29",
   "metadata": {},
   "outputs": [
    {
     "name": "stdout",
     "output_type": "stream",
     "text": [
      "CPU times: total: 15.6 ms\n",
      "Wall time: 20.9 ms\n"
     ]
    }
   ],
   "source": [
    "%%time\n",
    "# Importing general libraries:-\n",
    "import numpy as np; \n",
    "from scipy.stats import mode;\n",
    "import pandas as pd;\n",
    "from pandasql import sqldf;\n",
    "import regex as re;\n",
    "import matplotlib.pyplot as plt; \n",
    "%matplotlib inline\n",
    "import seaborn as sns;\n",
    "from warnings import filterwarnings;\n",
    "from tqdm.notebook import tqdm;\n",
    "np.random.seed(10);"
   ]
  },
  {
   "cell_type": "code",
   "execution_count": null,
   "id": "1411eb97",
   "metadata": {},
   "outputs": [],
   "source": [
    "## Import specific libraries\n",
    "%%time\n"
   ]
  },
  {
   "cell_type": "markdown",
   "id": "b0348cf1",
   "metadata": {
    "papermill": {
     "duration": 0.004301,
     "end_time": "2024-02-24T16:25:30.664825",
     "exception": false,
     "start_time": "2024-02-24T16:25:30.660524",
     "status": "completed"
    },
    "tags": []
   },
   "source": [
    "[Back to Menu](#menu)"
   ]
  },
  {
   "cell_type": "markdown",
   "id": "e41bd921",
   "metadata": {
    "papermill": {
     "duration": 0.004444,
     "end_time": "2024-02-24T16:25:30.673854",
     "exception": false,
     "start_time": "2024-02-24T16:25:30.669410",
     "status": "completed"
    },
    "tags": []
   },
   "source": [
    "<a id=\"2\"></a>\n",
    "<b>2. <span style='color:#4267B2'>Import Data</span></b> \n"
   ]
  },
  {
   "cell_type": "code",
   "execution_count": null,
   "id": "bdda33f0",
   "metadata": {},
   "outputs": [],
   "source": [
    "train_path  =  \"\"\n",
    "test_path =  \"\"\n",
    "train = pd.read_csv(train_path)\n",
    "test = pd.read_csv(test_path)\n"
   ]
  },
  {
   "cell_type": "markdown",
   "id": "724183d1",
   "metadata": {
    "papermill": {
     "duration": 0.004522,
     "end_time": "2024-02-24T16:25:30.683045",
     "exception": false,
     "start_time": "2024-02-24T16:25:30.678523",
     "status": "completed"
    },
    "tags": []
   },
   "source": [
    "[Back to Menu](#menu)"
   ]
  },
  {
   "cell_type": "markdown",
   "id": "a42fa310",
   "metadata": {
    "papermill": {
     "duration": 0.004881,
     "end_time": "2024-02-24T16:25:30.692623",
     "exception": false,
     "start_time": "2024-02-24T16:25:30.687742",
     "status": "completed"
    },
    "tags": []
   },
   "source": [
    "<a id=\"3\"></a>\n",
    "<b>3. <span style='color:#4267B2'>Quick Overview</span></b> \n",
    "\n",
    "| Column Name | Description | Data Type | Example |\n",
    "|-------------|-------------|-----------|---------|\n",
    "| ID          | Unique identifier for each record | Integer   | 101     |\n",
    "| Name        | Name of the person | String    | John Doe |\n",
    "| Age         | Age of the person | Integer   | 30      |\n",
    "| Email       | Email address of the person | String | john.doe@example.com |"
   ]
  },
  {
   "cell_type": "markdown",
   "id": "2632b3ef",
   "metadata": {
    "papermill": {
     "duration": 0.00449,
     "end_time": "2024-02-24T16:25:30.702425",
     "exception": false,
     "start_time": "2024-02-24T16:25:30.697935",
     "status": "completed"
    },
    "tags": []
   },
   "source": [
    "<a id=\"4\"></a>\n",
    "<b>4. <span style='color:#4267B2'>Summary of the data</span></b> "
   ]
  },
  {
   "cell_type": "markdown",
   "id": "2922f032",
   "metadata": {
    "papermill": {
     "duration": 0.004388,
     "end_time": "2024-02-24T16:25:30.711602",
     "exception": false,
     "start_time": "2024-02-24T16:25:30.707214",
     "status": "completed"
    },
    "tags": []
   },
   "source": [
    "[Back to Menu](#menu)"
   ]
  },
  {
   "cell_type": "markdown",
   "id": "2c1b1bff",
   "metadata": {
    "papermill": {
     "duration": 0.004953,
     "end_time": "2024-02-24T16:25:30.721701",
     "exception": false,
     "start_time": "2024-02-24T16:25:30.716748",
     "status": "completed"
    },
    "tags": []
   },
   "source": [
    "<a id=\"5\"></a>\n",
    "<b>5. <span style='color:#4267B2'>Exploratory Data Analysis</span></b> "
   ]
  },
  {
   "cell_type": "markdown",
   "id": "7e97bd24",
   "metadata": {
    "papermill": {
     "duration": 0.004396,
     "end_time": "2024-02-24T16:25:30.731007",
     "exception": false,
     "start_time": "2024-02-24T16:25:30.726611",
     "status": "completed"
    },
    "tags": []
   },
   "source": [
    "[Back to Menu](#menu)"
   ]
  },
  {
   "cell_type": "markdown",
   "id": "1a213e68",
   "metadata": {
    "papermill": {
     "duration": 0.004374,
     "end_time": "2024-02-24T16:25:30.740080",
     "exception": false,
     "start_time": "2024-02-24T16:25:30.735706",
     "status": "completed"
    },
    "tags": []
   },
   "source": [
    "<a id=\"6\"></a>\n",
    "<b>6. <span style='color:#4267B2'>Pre-Processing</span></b> "
   ]
  },
  {
   "cell_type": "markdown",
   "id": "cdde4291",
   "metadata": {
    "papermill": {
     "duration": 0.004353,
     "end_time": "2024-02-24T16:25:30.749258",
     "exception": false,
     "start_time": "2024-02-24T16:25:30.744905",
     "status": "completed"
    },
    "tags": []
   },
   "source": [
    "[Back to Menu](#menu)"
   ]
  },
  {
   "cell_type": "markdown",
   "id": "14007bba",
   "metadata": {
    "papermill": {
     "duration": 0.004284,
     "end_time": "2024-02-24T16:25:30.758266",
     "exception": false,
     "start_time": "2024-02-24T16:25:30.753982",
     "status": "completed"
    },
    "tags": []
   },
   "source": [
    "<a id=\"7\"></a>\n",
    "<b>7. <span style='color:#4267B2'>Model Building</span></b> "
   ]
  },
  {
   "cell_type": "markdown",
   "id": "4edf37d4",
   "metadata": {
    "papermill": {
     "duration": 0.004382,
     "end_time": "2024-02-24T16:25:30.767269",
     "exception": false,
     "start_time": "2024-02-24T16:25:30.762887",
     "status": "completed"
    },
    "tags": []
   },
   "source": [
    "[Back to Menu](#menu)\n"
   ]
  },
  {
   "cell_type": "markdown",
   "id": "0cef7de3",
   "metadata": {
    "papermill": {
     "duration": 0.004447,
     "end_time": "2024-02-24T16:25:30.776330",
     "exception": false,
     "start_time": "2024-02-24T16:25:30.771883",
     "status": "completed"
    },
    "tags": []
   },
   "source": [
    "<a id=\"8\"></a>\n",
    "<b>8. <span style='color:#4267B2'>Prediction of  Dataset</span></b>  "
   ]
  },
  {
   "cell_type": "markdown",
   "id": "ec074392",
   "metadata": {
    "papermill": {
     "duration": 0.004374,
     "end_time": "2024-02-24T16:25:30.785329",
     "exception": false,
     "start_time": "2024-02-24T16:25:30.780955",
     "status": "completed"
    },
    "tags": []
   },
   "source": [
    "[Back to Menu](#menu)"
   ]
  }
 ],
 "metadata": {
  "kaggle": {
   "accelerator": "none",
   "dataSources": [],
   "dockerImageVersionId": 30646,
   "isGpuEnabled": false,
   "isInternetEnabled": true,
   "language": "python",
   "sourceType": "notebook"
  },
  "kernelspec": {
   "display_name": "Python 3 (ipykernel)",
   "language": "python",
   "name": "python3"
  },
  "language_info": {
   "codemirror_mode": {
    "name": "ipython",
    "version": 3
   },
   "file_extension": ".py",
   "mimetype": "text/x-python",
   "name": "python",
   "nbconvert_exporter": "python",
   "pygments_lexer": "ipython3",
   "version": "3.10.9"
  },
  "papermill": {
   "default_parameters": {},
   "duration": 3.808238,
   "end_time": "2024-02-24T16:25:31.211574",
   "environment_variables": {},
   "exception": null,
   "input_path": "__notebook__.ipynb",
   "output_path": "__notebook__.ipynb",
   "parameters": {},
   "start_time": "2024-02-24T16:25:27.403336",
   "version": "2.5.0"
  }
 },
 "nbformat": 4,
 "nbformat_minor": 5
}
